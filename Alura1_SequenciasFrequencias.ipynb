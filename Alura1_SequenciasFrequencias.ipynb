{
  "nbformat": 4,
  "nbformat_minor": 0,
  "metadata": {
    "colab": {
      "provenance": []
    },
    "kernelspec": {
      "name": "python3",
      "display_name": "Python 3"
    },
    "language_info": {
      "name": "python"
    }
  },
  "cells": [
    {
      "cell_type": "markdown",
      "source": [
        "## Relatório I\n",
        "\n",
        "\n",
        "*   Selecione somente os imóveis classificados com tipo 'Apartamento'.\n",
        "\n",
        "* Selecione os imóveis classificados com tipos 'Casa', 'Casa de Condomínio' e 'Casa de Vila'.\n",
        "\n",
        "* Selecione os imóveis com área entre 60 e 100 metros quadrados, incluindo os limites.\n",
        "\n",
        "* Selecione os imóveis que tenham pelo menos 4 quartos e aluguel menor que R$ 2.000,00.\n",
        "\n"
      ],
      "metadata": {
        "id": "UD6WRJOwH1BF"
      }
    },
    {
      "cell_type": "code",
      "execution_count": 35,
      "metadata": {
        "id": "kLmb433fBU7S"
      },
      "outputs": [],
      "source": [
        "import pandas as pd"
      ]
    },
    {
      "cell_type": "code",
      "source": [
        "dados = pd.read_csv('aluguel.csv', sep = ';')"
      ],
      "metadata": {
        "id": "xi90MSC_LJ_i"
      },
      "execution_count": 36,
      "outputs": []
    },
    {
      "cell_type": "code",
      "source": [
        "residencial =  ['Quitinete',\n",
        "                'Casa',\n",
        "                'Apartamento',\n",
        "                'Casa de Condomínio',\n",
        "                'Casa de Vila']\n",
        "selecao = dados['Tipo'].isin(residencial)\n",
        "dados_residencial = dados[selecao]\n",
        "dados_residencial.index = range(dados_residencial.shape[0])\n",
        "dados_residencial.to_csv('aluguel_residencial.csv', sep = ';')\n",
        "dados = pd.read_csv('aluguel_residencial.csv', sep = ';')"
      ],
      "metadata": {
        "id": "iTkt_LGvBtLU"
      },
      "execution_count": 37,
      "outputs": []
    },
    {
      "cell_type": "markdown",
      "source": [
        "---\n",
        "\n",
        "*   Selecionando Imóveis do tipo apartamento\n",
        "\n"
      ],
      "metadata": {
        "id": "zMNtbwhKJGS8"
      }
    },
    {
      "cell_type": "code",
      "source": [
        "#Selecionando somente imóveis 'Apartamento'\n",
        "selecao = dados['Tipo'] == 'Apartamento'\n",
        "selecao"
      ],
      "metadata": {
        "colab": {
          "base_uri": "https://localhost:8080/"
        },
        "id": "5U_6BgIvHwQ4",
        "outputId": "6c6cbfa1-e8fc-45a0-db43-612bdfda5cdd"
      },
      "execution_count": 38,
      "outputs": [
        {
          "output_type": "execute_result",
          "data": {
            "text/plain": [
              "0        False\n",
              "1        False\n",
              "2         True\n",
              "3         True\n",
              "4         True\n",
              "         ...  \n",
              "22575     True\n",
              "22576    False\n",
              "22577     True\n",
              "22578     True\n",
              "22579     True\n",
              "Name: Tipo, Length: 22580, dtype: bool"
            ]
          },
          "metadata": {},
          "execution_count": 38
        }
      ]
    },
    {
      "cell_type": "code",
      "source": [
        "#Criação de uma variável armazenadora somente dos dados verdadeiros\n",
        "apartamentos = dados[selecao].shape[0]\n",
        "apartamentos"
      ],
      "metadata": {
        "colab": {
          "base_uri": "https://localhost:8080/"
        },
        "id": "pbhEZOysInKS",
        "outputId": "ba5f26a6-d92c-4ddf-e0c8-41dff6dae972"
      },
      "execution_count": 39,
      "outputs": [
        {
          "output_type": "execute_result",
          "data": {
            "text/plain": [
              "19532"
            ]
          },
          "metadata": {},
          "execution_count": 39
        }
      ]
    },
    {
      "cell_type": "markdown",
      "source": [
        "\n",
        "\n",
        "---\n",
        "* Selecionando Imóveis do tipo casa, casa de condominio, casa de vila\n",
        "\n"
      ],
      "metadata": {
        "id": "FL_ue4q1Hx3U"
      }
    },
    {
      "cell_type": "code",
      "source": [
        "selecao = (dados['Tipo'] == 'Casa') | (dados['Tipo'] == 'Casa de Condomínio') | (dados['Tipo'] == 'Casa de Vila')\n",
        "selecao"
      ],
      "metadata": {
        "colab": {
          "base_uri": "https://localhost:8080/"
        },
        "id": "Oi7jsYdcJdcG",
        "outputId": "0613c7d6-a9c9-4e54-9b86-76bf3f265f30"
      },
      "execution_count": 41,
      "outputs": [
        {
          "output_type": "execute_result",
          "data": {
            "text/plain": [
              "0        False\n",
              "1         True\n",
              "2        False\n",
              "3        False\n",
              "4        False\n",
              "         ...  \n",
              "22575    False\n",
              "22576    False\n",
              "22577    False\n",
              "22578    False\n",
              "22579    False\n",
              "Name: Tipo, Length: 22580, dtype: bool"
            ]
          },
          "metadata": {},
          "execution_count": 41
        }
      ]
    },
    {
      "cell_type": "code",
      "source": [
        "#Criação de uma variável armazenadora somente dos dados verdadeiros\n",
        "casas = dados[selecao].shape[0]\n",
        "casas"
      ],
      "metadata": {
        "colab": {
          "base_uri": "https://localhost:8080/"
        },
        "id": "nf0ItVicMi7c",
        "outputId": "143bf9e4-c91a-4e45-825e-862b2fb58dec"
      },
      "execution_count": 43,
      "outputs": [
        {
          "output_type": "execute_result",
          "data": {
            "text/plain": [
              "2212"
            ]
          },
          "metadata": {},
          "execution_count": 43
        }
      ]
    },
    {
      "cell_type": "markdown",
      "source": [
        "---\n",
        "* Selecionar imóveis com área entre 60 e 100"
      ],
      "metadata": {
        "id": "HwtlUHAUNKvx"
      }
    },
    {
      "cell_type": "code",
      "source": [
        "selecao = (dados['Area'] >= 60) & (dados['Area'] <=100) \n",
        "area = dados[selecao].shape[0]\n",
        "area"
      ],
      "metadata": {
        "colab": {
          "base_uri": "https://localhost:8080/"
        },
        "id": "h8kFmzppNKF1",
        "outputId": "4dd58b3a-7f87-4659-8b8d-aaf0561ec54d"
      },
      "execution_count": 46,
      "outputs": [
        {
          "output_type": "execute_result",
          "data": {
            "text/plain": [
              "8719"
            ]
          },
          "metadata": {},
          "execution_count": 46
        }
      ]
    },
    {
      "cell_type": "markdown",
      "source": [
        "---\n",
        "* Imóveis pelo menos quatro quartos e um aluguel menor que R$ 2.000,00."
      ],
      "metadata": {
        "id": "Jvf3OplyOARx"
      }
    },
    {
      "cell_type": "code",
      "source": [
        "selecao = (dados['Quartos'] >= 4 ) & (dados['Valor'] <2000)\n",
        "quartos = dados[selecao].shape[0]\n",
        "quartos"
      ],
      "metadata": {
        "colab": {
          "base_uri": "https://localhost:8080/"
        },
        "id": "bjv_DixKN_v_",
        "outputId": "e7853ecb-b56a-4cb9-fa9a-ca4f9ab4f631"
      },
      "execution_count": 48,
      "outputs": [
        {
          "output_type": "execute_result",
          "data": {
            "text/plain": [
              "41"
            ]
          },
          "metadata": {},
          "execution_count": 48
        }
      ]
    },
    {
      "cell_type": "code",
      "source": [
        "print(\"Nº de imóveis do tipo 'Apartamento' -> {}\". format(apartamentos))\n",
        "print(\"Nº de imóveis classificados com tipos 'Casa', 'Casa de Condomínio' e 'Casa de Vila'-> {}\".format(casas))\n",
        "print(\"Nº de imóveis com área entre 60 e 100 metros quadrados, incluindo os limites -> {}\".format(area))\n",
        "print(\"Nº de imóveis que tenham pelo menos 4 quartos e aluguel menor que R$ 2.000,00 -> {}\".format(quartos))\n"
      ],
      "metadata": {
        "colab": {
          "base_uri": "https://localhost:8080/"
        },
        "id": "Li2ZfIn4OfTQ",
        "outputId": "fea75172-05ce-4e85-8ab6-7fe3bf206a76"
      },
      "execution_count": 51,
      "outputs": [
        {
          "output_type": "stream",
          "name": "stdout",
          "text": [
            "Nº de imóveis do tipo 'Apartamento' -> 19532\n",
            "Nº de imóveis classificados com tipos 'Casa', 'Casa de Condomínio' e 'Casa de Vila'-> 2212\n",
            "Nº de imóveis com área entre 60 e 100 metros quadrados, incluindo os limites -> 8719\n",
            "Nº de imóveis que tenham pelo menos 4 quartos e aluguel menor que R$ 2.000,00 -> 41\n"
          ]
        }
      ]
    },
    {
      "cell_type": "markdown",
      "source": [
        "# Extra: formas de seleção"
      ],
      "metadata": {
        "id": "K4zQoTWBP9d8"
      }
    },
    {
      "cell_type": "code",
      "source": [],
      "metadata": {
        "id": "RXBygvOQQAn8"
      },
      "execution_count": null,
      "outputs": []
    },
    {
      "cell_type": "code",
      "source": [],
      "metadata": {
        "id": "j05dzFh_P82o"
      },
      "execution_count": null,
      "outputs": []
    }
  ]
}